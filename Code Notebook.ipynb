{
 "cells": [
  {
   "cell_type": "code",
   "execution_count": 1,
   "metadata": {
    "id": "vT_2beZ0IqML"
   },
   "outputs": [
    {
     "name": "stderr",
     "output_type": "stream",
     "text": [
      "c:\\Users\\Chandrashekhar\\.conda\\envs\\tf-gpu\\lib\\site-packages\\scipy\\__init__.py:146: UserWarning: A NumPy version >=1.17.3 and <1.25.0 is required for this version of SciPy (detected version 1.25.2\n",
      "  warnings.warn(f\"A NumPy version >={np_minversion} and <{np_maxversion}\"\n"
     ]
    }
   ],
   "source": [
    "import pandas as pd\n",
    "import numpy as np\n",
    "from sklearn.model_selection import train_test_split\n",
    "from sklearn.feature_extraction.text import TfidfVectorizer\n",
    "from sklearn.linear_model import LogisticRegression\n",
    "from sklearn.ensemble import RandomForestClassifier\n",
    "from sklearn.metrics import accuracy_score"
   ]
  },
  {
   "cell_type": "code",
   "execution_count": 3,
   "metadata": {
    "id": "l0OdeWXIIrwH"
   },
   "outputs": [],
   "source": [
    "df = pd.read_csv(\"data.csv\",low_memory=False)"
   ]
  },
  {
   "cell_type": "code",
   "execution_count": 4,
   "metadata": {
    "id": "wjtjuTa-NqwQ"
   },
   "outputs": [],
   "source": [
    "# Preprocess\n",
    "df['issue'].fillna('', inplace=True)\n",
    "df['sub_issue'].fillna('', inplace=True)"
   ]
  },
  {
   "cell_type": "code",
   "execution_count": 5,
   "metadata": {
    "colab": {
     "base_uri": "https://localhost:8080/",
     "height": 808
    },
    "id": "UDwcVvqHNrvG",
    "outputId": "ba629721-50e3-4ab0-fb58-a8cccbc7cfe8"
   },
   "outputs": [
    {
     "data": {
      "text/html": [
       "<div>\n",
       "<style scoped>\n",
       "    .dataframe tbody tr th:only-of-type {\n",
       "        vertical-align: middle;\n",
       "    }\n",
       "\n",
       "    .dataframe tbody tr th {\n",
       "        vertical-align: top;\n",
       "    }\n",
       "\n",
       "    .dataframe thead th {\n",
       "        text-align: right;\n",
       "    }\n",
       "</style>\n",
       "<table border=\"1\" class=\"dataframe\">\n",
       "  <thead>\n",
       "    <tr style=\"text-align: right;\">\n",
       "      <th></th>\n",
       "      <th>date_received</th>\n",
       "      <th>product</th>\n",
       "      <th>sub_product</th>\n",
       "      <th>issue</th>\n",
       "      <th>sub_issue</th>\n",
       "      <th>consumer_complaint_narrative</th>\n",
       "      <th>company_public_response</th>\n",
       "      <th>company</th>\n",
       "      <th>state</th>\n",
       "      <th>zipcode</th>\n",
       "      <th>tags</th>\n",
       "      <th>consumer_consent_provided</th>\n",
       "      <th>submitted_via</th>\n",
       "      <th>date_sent_to_company</th>\n",
       "      <th>company_response_to_consumer</th>\n",
       "      <th>timely_response</th>\n",
       "      <th>consumer_disputed?</th>\n",
       "      <th>complaint_id</th>\n",
       "      <th>Category</th>\n",
       "    </tr>\n",
       "  </thead>\n",
       "  <tbody>\n",
       "    <tr>\n",
       "      <th>0</th>\n",
       "      <td>12-05-2014</td>\n",
       "      <td>Debt collection</td>\n",
       "      <td>Mortgage</td>\n",
       "      <td>Disclosure verification of debt</td>\n",
       "      <td></td>\n",
       "      <td>NaN</td>\n",
       "      <td>NaN</td>\n",
       "      <td>(Former)Shapiro, Swertfeger &amp; Hasty, LLP</td>\n",
       "      <td>GA</td>\n",
       "      <td>30005</td>\n",
       "      <td>NaN</td>\n",
       "      <td>NaN</td>\n",
       "      <td>Referral</td>\n",
       "      <td>12-12-2014</td>\n",
       "      <td>Untimely response</td>\n",
       "      <td>No</td>\n",
       "      <td>No</td>\n",
       "      <td>1144671</td>\n",
       "      <td>0</td>\n",
       "    </tr>\n",
       "    <tr>\n",
       "      <th>1</th>\n",
       "      <td>11-10-2014</td>\n",
       "      <td>Mortgage</td>\n",
       "      <td>Other mortgage</td>\n",
       "      <td>Loan servicing, payments, escrow account</td>\n",
       "      <td></td>\n",
       "      <td>NaN</td>\n",
       "      <td>NaN</td>\n",
       "      <td>(Former)Shapiro, Swertfeger &amp; Hasty, LLP</td>\n",
       "      <td>DE</td>\n",
       "      <td>19803</td>\n",
       "      <td>NaN</td>\n",
       "      <td>NaN</td>\n",
       "      <td>Referral</td>\n",
       "      <td>11/19/2014</td>\n",
       "      <td>Untimely response</td>\n",
       "      <td>No</td>\n",
       "      <td>No</td>\n",
       "      <td>1109287</td>\n",
       "      <td>1</td>\n",
       "    </tr>\n",
       "    <tr>\n",
       "      <th>2</th>\n",
       "      <td>08/26/2015</td>\n",
       "      <td>Mortgage</td>\n",
       "      <td>Other mortgage</td>\n",
       "      <td>Loan modification,collection,foreclosure</td>\n",
       "      <td></td>\n",
       "      <td>NaN</td>\n",
       "      <td>NaN</td>\n",
       "      <td>(Former)Shapiro, Swertfeger &amp; Hasty, LLP</td>\n",
       "      <td>GA</td>\n",
       "      <td>30014</td>\n",
       "      <td>NaN</td>\n",
       "      <td>NaN</td>\n",
       "      <td>Referral</td>\n",
       "      <td>09-08-2015</td>\n",
       "      <td>Untimely response</td>\n",
       "      <td>No</td>\n",
       "      <td>No</td>\n",
       "      <td>1536776</td>\n",
       "      <td>1</td>\n",
       "    </tr>\n",
       "    <tr>\n",
       "      <th>3</th>\n",
       "      <td>01/16/2014</td>\n",
       "      <td>Debt collection</td>\n",
       "      <td>Mortgage</td>\n",
       "      <td>Disclosure verification of debt</td>\n",
       "      <td></td>\n",
       "      <td>NaN</td>\n",
       "      <td>NaN</td>\n",
       "      <td>(Former)Shapiro, Swertfeger &amp; Hasty, LLP</td>\n",
       "      <td>GA</td>\n",
       "      <td>30087</td>\n",
       "      <td>NaN</td>\n",
       "      <td>NaN</td>\n",
       "      <td>Referral</td>\n",
       "      <td>02-11-2014</td>\n",
       "      <td>Untimely response</td>\n",
       "      <td>No</td>\n",
       "      <td>No</td>\n",
       "      <td>671539</td>\n",
       "      <td>0</td>\n",
       "    </tr>\n",
       "    <tr>\n",
       "      <th>4</th>\n",
       "      <td>06/25/2015</td>\n",
       "      <td>Mortgage</td>\n",
       "      <td>Conventional fixed mortgage</td>\n",
       "      <td>Application, originator, mortgage broker</td>\n",
       "      <td></td>\n",
       "      <td>My mortgage company has misrepresented themsel...</td>\n",
       "      <td>NaN</td>\n",
       "      <td>1st 2nd Mortgage Company Of NJ, Inc.</td>\n",
       "      <td>NJ</td>\n",
       "      <td>074XX</td>\n",
       "      <td>NaN</td>\n",
       "      <td>Consent provided</td>\n",
       "      <td>Web</td>\n",
       "      <td>07/22/2015</td>\n",
       "      <td>Closed</td>\n",
       "      <td>Yes</td>\n",
       "      <td>No</td>\n",
       "      <td>1437506</td>\n",
       "      <td>1</td>\n",
       "    </tr>\n",
       "    <tr>\n",
       "      <th>...</th>\n",
       "      <td>...</td>\n",
       "      <td>...</td>\n",
       "      <td>...</td>\n",
       "      <td>...</td>\n",
       "      <td>...</td>\n",
       "      <td>...</td>\n",
       "      <td>...</td>\n",
       "      <td>...</td>\n",
       "      <td>...</td>\n",
       "      <td>...</td>\n",
       "      <td>...</td>\n",
       "      <td>...</td>\n",
       "      <td>...</td>\n",
       "      <td>...</td>\n",
       "      <td>...</td>\n",
       "      <td>...</td>\n",
       "      <td>...</td>\n",
       "      <td>...</td>\n",
       "      <td>...</td>\n",
       "    </tr>\n",
       "    <tr>\n",
       "      <th>555952</th>\n",
       "      <td>01/26/2014</td>\n",
       "      <td>Debt collection</td>\n",
       "      <td>Non-federal student loan</td>\n",
       "      <td>Improper contact or sharing of info</td>\n",
       "      <td></td>\n",
       "      <td>NaN</td>\n",
       "      <td>NaN</td>\n",
       "      <td>Zwicker &amp; Associates</td>\n",
       "      <td>MN</td>\n",
       "      <td>55428</td>\n",
       "      <td>NaN</td>\n",
       "      <td>NaN</td>\n",
       "      <td>Web</td>\n",
       "      <td>01/27/2014</td>\n",
       "      <td>Closed with non-monetary relief</td>\n",
       "      <td>Yes</td>\n",
       "      <td>No</td>\n",
       "      <td>685904</td>\n",
       "      <td>0</td>\n",
       "    </tr>\n",
       "    <tr>\n",
       "      <th>555953</th>\n",
       "      <td>01/26/2016</td>\n",
       "      <td>Debt collection</td>\n",
       "      <td>Non-federal student loan</td>\n",
       "      <td>Cont'd attempts collect debt not owed</td>\n",
       "      <td></td>\n",
       "      <td>NaN</td>\n",
       "      <td>NaN</td>\n",
       "      <td>Zwicker &amp; Associates</td>\n",
       "      <td>NJ</td>\n",
       "      <td>070XX</td>\n",
       "      <td>Older American</td>\n",
       "      <td>Consent provided</td>\n",
       "      <td>Web</td>\n",
       "      <td>02-10-2016</td>\n",
       "      <td>Closed with non-monetary relief</td>\n",
       "      <td>Yes</td>\n",
       "      <td>No</td>\n",
       "      <td>1759548</td>\n",
       "      <td>0</td>\n",
       "    </tr>\n",
       "    <tr>\n",
       "      <th>555954</th>\n",
       "      <td>03/31/2016</td>\n",
       "      <td>Debt collection</td>\n",
       "      <td>Other (i.e. phone, health club, etc.)</td>\n",
       "      <td>Disclosure verification of debt</td>\n",
       "      <td></td>\n",
       "      <td>NaN</td>\n",
       "      <td>NaN</td>\n",
       "      <td>Zwicker &amp; Associates</td>\n",
       "      <td>FL</td>\n",
       "      <td>33837</td>\n",
       "      <td>NaN</td>\n",
       "      <td>NaN</td>\n",
       "      <td>Referral</td>\n",
       "      <td>04-04-2016</td>\n",
       "      <td>Closed with explanation</td>\n",
       "      <td>Yes</td>\n",
       "      <td>No</td>\n",
       "      <td>1859430</td>\n",
       "      <td>0</td>\n",
       "    </tr>\n",
       "    <tr>\n",
       "      <th>555955</th>\n",
       "      <td>10/13/2015</td>\n",
       "      <td>Debt collection</td>\n",
       "      <td>Credit card</td>\n",
       "      <td>Disclosure verification of debt</td>\n",
       "      <td></td>\n",
       "      <td>NaN</td>\n",
       "      <td>NaN</td>\n",
       "      <td>Zwicker &amp; Associates</td>\n",
       "      <td>FL</td>\n",
       "      <td>33308</td>\n",
       "      <td>NaN</td>\n",
       "      <td>NaN</td>\n",
       "      <td>Phone</td>\n",
       "      <td>10/13/2015</td>\n",
       "      <td>Closed with non-monetary relief</td>\n",
       "      <td>Yes</td>\n",
       "      <td>No</td>\n",
       "      <td>1603745</td>\n",
       "      <td>0</td>\n",
       "    </tr>\n",
       "    <tr>\n",
       "      <th>555956</th>\n",
       "      <td>02-03-2014</td>\n",
       "      <td>Debt collection</td>\n",
       "      <td>Credit card</td>\n",
       "      <td>False statements or representation</td>\n",
       "      <td></td>\n",
       "      <td>NaN</td>\n",
       "      <td>NaN</td>\n",
       "      <td>Zwicker &amp; Associates</td>\n",
       "      <td>TN</td>\n",
       "      <td>38330</td>\n",
       "      <td>NaN</td>\n",
       "      <td>NaN</td>\n",
       "      <td>Web</td>\n",
       "      <td>02-03-2014</td>\n",
       "      <td>Closed with explanation</td>\n",
       "      <td>Yes</td>\n",
       "      <td>No</td>\n",
       "      <td>698251</td>\n",
       "      <td>0</td>\n",
       "    </tr>\n",
       "  </tbody>\n",
       "</table>\n",
       "<p>555957 rows × 19 columns</p>\n",
       "</div>"
      ],
      "text/plain": [
       "       date_received          product                            sub_product  \\\n",
       "0         12-05-2014  Debt collection                               Mortgage   \n",
       "1         11-10-2014         Mortgage                         Other mortgage   \n",
       "2         08/26/2015         Mortgage                         Other mortgage   \n",
       "3         01/16/2014  Debt collection                               Mortgage   \n",
       "4         06/25/2015         Mortgage            Conventional fixed mortgage   \n",
       "...              ...              ...                                    ...   \n",
       "555952    01/26/2014  Debt collection               Non-federal student loan   \n",
       "555953    01/26/2016  Debt collection               Non-federal student loan   \n",
       "555954    03/31/2016  Debt collection  Other (i.e. phone, health club, etc.)   \n",
       "555955    10/13/2015  Debt collection                            Credit card   \n",
       "555956    02-03-2014  Debt collection                            Credit card   \n",
       "\n",
       "                                           issue sub_issue  \\\n",
       "0                Disclosure verification of debt             \n",
       "1       Loan servicing, payments, escrow account             \n",
       "2       Loan modification,collection,foreclosure             \n",
       "3                Disclosure verification of debt             \n",
       "4       Application, originator, mortgage broker             \n",
       "...                                          ...       ...   \n",
       "555952       Improper contact or sharing of info             \n",
       "555953     Cont'd attempts collect debt not owed             \n",
       "555954           Disclosure verification of debt             \n",
       "555955           Disclosure verification of debt             \n",
       "555956        False statements or representation             \n",
       "\n",
       "                             consumer_complaint_narrative  \\\n",
       "0                                                     NaN   \n",
       "1                                                     NaN   \n",
       "2                                                     NaN   \n",
       "3                                                     NaN   \n",
       "4       My mortgage company has misrepresented themsel...   \n",
       "...                                                   ...   \n",
       "555952                                                NaN   \n",
       "555953                                                NaN   \n",
       "555954                                                NaN   \n",
       "555955                                                NaN   \n",
       "555956                                                NaN   \n",
       "\n",
       "       company_public_response                                   company  \\\n",
       "0                          NaN  (Former)Shapiro, Swertfeger & Hasty, LLP   \n",
       "1                          NaN  (Former)Shapiro, Swertfeger & Hasty, LLP   \n",
       "2                          NaN  (Former)Shapiro, Swertfeger & Hasty, LLP   \n",
       "3                          NaN  (Former)Shapiro, Swertfeger & Hasty, LLP   \n",
       "4                          NaN      1st 2nd Mortgage Company Of NJ, Inc.   \n",
       "...                        ...                                       ...   \n",
       "555952                     NaN                      Zwicker & Associates   \n",
       "555953                     NaN                      Zwicker & Associates   \n",
       "555954                     NaN                      Zwicker & Associates   \n",
       "555955                     NaN                      Zwicker & Associates   \n",
       "555956                     NaN                      Zwicker & Associates   \n",
       "\n",
       "       state zipcode            tags consumer_consent_provided submitted_via  \\\n",
       "0         GA   30005             NaN                       NaN      Referral   \n",
       "1         DE   19803             NaN                       NaN      Referral   \n",
       "2         GA   30014             NaN                       NaN      Referral   \n",
       "3         GA   30087             NaN                       NaN      Referral   \n",
       "4         NJ   074XX             NaN          Consent provided           Web   \n",
       "...      ...     ...             ...                       ...           ...   \n",
       "555952    MN   55428             NaN                       NaN           Web   \n",
       "555953    NJ   070XX  Older American          Consent provided           Web   \n",
       "555954    FL   33837             NaN                       NaN      Referral   \n",
       "555955    FL   33308             NaN                       NaN         Phone   \n",
       "555956    TN   38330             NaN                       NaN           Web   \n",
       "\n",
       "       date_sent_to_company     company_response_to_consumer timely_response  \\\n",
       "0                12-12-2014                Untimely response              No   \n",
       "1                11/19/2014                Untimely response              No   \n",
       "2                09-08-2015                Untimely response              No   \n",
       "3                02-11-2014                Untimely response              No   \n",
       "4                07/22/2015                           Closed             Yes   \n",
       "...                     ...                              ...             ...   \n",
       "555952           01/27/2014  Closed with non-monetary relief             Yes   \n",
       "555953           02-10-2016  Closed with non-monetary relief             Yes   \n",
       "555954           04-04-2016          Closed with explanation             Yes   \n",
       "555955           10/13/2015  Closed with non-monetary relief             Yes   \n",
       "555956           02-03-2014          Closed with explanation             Yes   \n",
       "\n",
       "       consumer_disputed?  complaint_id  Category  \n",
       "0                      No       1144671         0  \n",
       "1                      No       1109287         1  \n",
       "2                      No       1536776         1  \n",
       "3                      No        671539         0  \n",
       "4                      No       1437506         1  \n",
       "...                   ...           ...       ...  \n",
       "555952                 No        685904         0  \n",
       "555953                 No       1759548         0  \n",
       "555954                 No       1859430         0  \n",
       "555955                 No       1603745         0  \n",
       "555956                 No        698251         0  \n",
       "\n",
       "[555957 rows x 19 columns]"
      ]
     },
     "execution_count": 5,
     "metadata": {},
     "output_type": "execute_result"
    }
   ],
   "source": [
    "df"
   ]
  },
  {
   "cell_type": "code",
   "execution_count": 6,
   "metadata": {},
   "outputs": [
    {
     "data": {
      "text/plain": [
       "array(['Debt collection', 'Mortgage', 'Consumer Loan',\n",
       "       'Bank account or service', 'Credit reporting', 'Payday loan',\n",
       "       'Other financial service', 'Student loan', 'Money transfers',\n",
       "       'Prepaid card', 'Credit card'], dtype=object)"
      ]
     },
     "execution_count": 6,
     "metadata": {},
     "output_type": "execute_result"
    }
   ],
   "source": [
    "df[\"product\"].unique()"
   ]
  },
  {
   "cell_type": "code",
   "execution_count": 7,
   "metadata": {
    "id": "Nf5BCPfUNx96"
   },
   "outputs": [],
   "source": [
    "# Assign numerical labels\n",
    "category_mapping = {category: index for index, category in enumerate(df['product'].unique())}\n",
    "df['Category'] = df['product'].map(category_mapping)"
   ]
  },
  {
   "cell_type": "code",
   "execution_count": 8,
   "metadata": {},
   "outputs": [],
   "source": [
    "df.to_csv(\"Clean_category_product.csv\",index=False)"
   ]
  },
  {
   "cell_type": "code",
   "execution_count": 9,
   "metadata": {
    "id": "G-LOI7tAOKy1"
   },
   "outputs": [],
   "source": [
    "# Split the dataset\n",
    "X = df['issue'] + ' ' + df['sub_issue']\n",
    "y = df['Category']\n",
    "X_train, X_eval, y_train, y_eval = train_test_split(X, y, test_size=0.2, random_state=42)"
   ]
  },
  {
   "cell_type": "code",
   "execution_count": 10,
   "metadata": {},
   "outputs": [],
   "source": [
    "\n",
    "vectorizer = TfidfVectorizer()"
   ]
  },
  {
   "cell_type": "code",
   "execution_count": 11,
   "metadata": {
    "id": "O-otWT1eOUpd"
   },
   "outputs": [],
   "source": [
    "# Convert into numerical features\n",
    "vectorizer = TfidfVectorizer()\n",
    "X_train_vectorized = vectorizer.fit_transform(X_train)\n",
    "X_eval_vectorized = vectorizer.transform(X_eval)"
   ]
  },
  {
   "cell_type": "code",
   "execution_count": 12,
   "metadata": {},
   "outputs": [],
   "source": [
    "import pickle"
   ]
  },
  {
   "cell_type": "code",
   "execution_count": 12,
   "metadata": {},
   "outputs": [],
   "source": [
    "pickle.dump(vectorizer, open('vectorizer.pkl','wb'))"
   ]
  },
  {
   "cell_type": "code",
   "execution_count": 28,
   "metadata": {
    "collapsed": true,
    "jupyter": {
     "outputs_hidden": true
    }
   },
   "outputs": [
    {
     "data": {
      "text/plain": [
       "array(['8am', '9pm', 'about', 'abusive', 'account', 'acct', 'action',\n",
       "       'adding', 'advance', 'advertising', 'after', 'agree', 'alerts',\n",
       "       'amount', 'amt', 'an', 'and', 'annual', 'application', 'applied',\n",
       "       'apply', 'apr', 'arbitration', 'are', 'arrest', 'as', 'asked',\n",
       "       'atm', 'attempt', 'attempted', 'attempts', 'attorney', 'available',\n",
       "       'bad', 'balance', 'bank', 'bankruptcy', 'being', 'better',\n",
       "       'billing', 'broker', 'by', 'called', 'calls', 'can', 'cancelling',\n",
       "       'card', 'cash', 'caused', 'cease', 'changes', 'charged', 'charges',\n",
       "       'check', 'checks', 'closing', 'collect', 'collected', 'collection',\n",
       "       'comm', 'committed', 'communication', 'company', 'consent', 'cont',\n",
       "       'contact', 'contacted', 'convenience', 'costs', 'crc', 'credit',\n",
       "       'credited', 'crime', 'customer', 'damaged', 'day', 'dealing',\n",
       "       'debit', 'debt', 'decision', 'decrease', 'delay', 'deleted',\n",
       "       'delinquent', 'deposits', 'destroyed', 'determination', 'did',\n",
       "       'didn', 'discharged', 'disclosed', 'disclosure', 'disclosures',\n",
       "       'dispute', 'disputes', 'do', 'don', 'embezzlement', 'employer',\n",
       "       'enough', 'escrow', 'excessive', 'exchange', 'exempt', 'expect',\n",
       "       'false', 'features', 'fee', 'fees', 'flexible', 'for',\n",
       "       'forbearance', 'foreclosure', 'fraud', 'free', 'frequent', 'from',\n",
       "       'funds', 'get', 'getting', 'given', 'handled', 'having', 'help',\n",
       "       'how', 'identity', 'if', 'illegal', 'impersonated', 'improper',\n",
       "       'improperly', 'in', 'inadequate', 'incorrect', 'increase',\n",
       "       'indicated', 'info', 'information', 'instead', 'insurance',\n",
       "       'interest', 'investigation', 'is', 'issuance', 'issue', 'issues',\n",
       "       'jail', 'keep', 'language', 'late', 'lawsuit', 'lease', 'legal',\n",
       "       'lender', 'line', 'live', 'loan', 'long', 'lost', 'low', 'making',\n",
       "       'management', 'managing', 'marketing', 'me', 'mine', 'missing',\n",
       "       'modification', 'money', 'monitoring', 'monthly', 'mortgage', 'my',\n",
       "       'need', 'no', 'not', 'notice', 'notification', 'obscene', 'of',\n",
       "       'offer', 'offered', 'official', 'old', 'on', 'opening', 'opted',\n",
       "       'options', 'or', 'order', 'originator', 'other', 'out', 'outside',\n",
       "       'over', 'overdraft', 'overlimit', 'owed', 'paid', 'party', 'pay',\n",
       "       'paying', 'payment', 'payments', 'payoff', 'personal', 'phone',\n",
       "       'plans', 'postpone', 'practices', 'previously', 'privacy',\n",
       "       'problem', 'problems', 'process', 'processing', 'profane',\n",
       "       'promised', 'proper', 'property', 'protection', 'public',\n",
       "       'qualify', 'rate', 'receive', 'received', 'receiving', 'record',\n",
       "       'reinserted', 'relations', 'repay', 'repaying', 'repeated',\n",
       "       'report', 'reporting', 'repossessed', 'representation', 'respond',\n",
       "       'result', 'resulted', 'rewards', 'right', 'sale', 'savings',\n",
       "       'scam', 'score', 'seize', 'seized', 'sending', 'sent', 'service',\n",
       "       'servicer', 'servicing', 'settlement', 'shared', 'sharing',\n",
       "       'shopping', 'shouldn', 'sign', 'sold', 'statement', 'statements',\n",
       "       'status', 'stolen', 'stop', 'sue', 'sued', 'suit', 'tactics',\n",
       "       'take', 'taking', 'talked', 'temporarily', 'terms', 'than', 'the',\n",
       "       'theft', 'third', 'threatened', 'threatening', 'to', 'too', 'took',\n",
       "       'trans', 'transaction', 'transactions', 'transfer', 'trouble',\n",
       "       'unable', 'unauthorized', 'underwriting', 'unexpected',\n",
       "       'unsolicited', 'unwanted', 'use', 'used', 'using', 'vehicle',\n",
       "       'verification', 'verify', 'was', 'when', 'where', 'with',\n",
       "       'withdrawals', 'workout', 'written', 'wrong', 'you', 'your'],\n",
       "      dtype=object)"
      ]
     },
     "execution_count": 28,
     "metadata": {},
     "output_type": "execute_result"
    }
   ],
   "source": [
    "vectorizer.get_feature_names_out()"
   ]
  },
  {
   "cell_type": "code",
   "execution_count": 13,
   "metadata": {
    "colab": {
     "base_uri": "https://localhost:8080/",
     "height": 74
    },
    "id": "fGKqBq2UOWx7",
    "outputId": "e684548e-6ff9-4b60-b18e-934f677b9103"
   },
   "outputs": [
    {
     "data": {
      "text/html": [
       "<style>#sk-container-id-1 {color: black;background-color: white;}#sk-container-id-1 pre{padding: 0;}#sk-container-id-1 div.sk-toggleable {background-color: white;}#sk-container-id-1 label.sk-toggleable__label {cursor: pointer;display: block;width: 100%;margin-bottom: 0;padding: 0.3em;box-sizing: border-box;text-align: center;}#sk-container-id-1 label.sk-toggleable__label-arrow:before {content: \"▸\";float: left;margin-right: 0.25em;color: #696969;}#sk-container-id-1 label.sk-toggleable__label-arrow:hover:before {color: black;}#sk-container-id-1 div.sk-estimator:hover label.sk-toggleable__label-arrow:before {color: black;}#sk-container-id-1 div.sk-toggleable__content {max-height: 0;max-width: 0;overflow: hidden;text-align: left;background-color: #f0f8ff;}#sk-container-id-1 div.sk-toggleable__content pre {margin: 0.2em;color: black;border-radius: 0.25em;background-color: #f0f8ff;}#sk-container-id-1 input.sk-toggleable__control:checked~div.sk-toggleable__content {max-height: 200px;max-width: 100%;overflow: auto;}#sk-container-id-1 input.sk-toggleable__control:checked~label.sk-toggleable__label-arrow:before {content: \"▾\";}#sk-container-id-1 div.sk-estimator input.sk-toggleable__control:checked~label.sk-toggleable__label {background-color: #d4ebff;}#sk-container-id-1 div.sk-label input.sk-toggleable__control:checked~label.sk-toggleable__label {background-color: #d4ebff;}#sk-container-id-1 input.sk-hidden--visually {border: 0;clip: rect(1px 1px 1px 1px);clip: rect(1px, 1px, 1px, 1px);height: 1px;margin: -1px;overflow: hidden;padding: 0;position: absolute;width: 1px;}#sk-container-id-1 div.sk-estimator {font-family: monospace;background-color: #f0f8ff;border: 1px dotted black;border-radius: 0.25em;box-sizing: border-box;margin-bottom: 0.5em;}#sk-container-id-1 div.sk-estimator:hover {background-color: #d4ebff;}#sk-container-id-1 div.sk-parallel-item::after {content: \"\";width: 100%;border-bottom: 1px solid gray;flex-grow: 1;}#sk-container-id-1 div.sk-label:hover label.sk-toggleable__label {background-color: #d4ebff;}#sk-container-id-1 div.sk-serial::before {content: \"\";position: absolute;border-left: 1px solid gray;box-sizing: border-box;top: 0;bottom: 0;left: 50%;z-index: 0;}#sk-container-id-1 div.sk-serial {display: flex;flex-direction: column;align-items: center;background-color: white;padding-right: 0.2em;padding-left: 0.2em;position: relative;}#sk-container-id-1 div.sk-item {position: relative;z-index: 1;}#sk-container-id-1 div.sk-parallel {display: flex;align-items: stretch;justify-content: center;background-color: white;position: relative;}#sk-container-id-1 div.sk-item::before, #sk-container-id-1 div.sk-parallel-item::before {content: \"\";position: absolute;border-left: 1px solid gray;box-sizing: border-box;top: 0;bottom: 0;left: 50%;z-index: -1;}#sk-container-id-1 div.sk-parallel-item {display: flex;flex-direction: column;z-index: 1;position: relative;background-color: white;}#sk-container-id-1 div.sk-parallel-item:first-child::after {align-self: flex-end;width: 50%;}#sk-container-id-1 div.sk-parallel-item:last-child::after {align-self: flex-start;width: 50%;}#sk-container-id-1 div.sk-parallel-item:only-child::after {width: 0;}#sk-container-id-1 div.sk-dashed-wrapped {border: 1px dashed gray;margin: 0 0.4em 0.5em 0.4em;box-sizing: border-box;padding-bottom: 0.4em;background-color: white;}#sk-container-id-1 div.sk-label label {font-family: monospace;font-weight: bold;display: inline-block;line-height: 1.2em;}#sk-container-id-1 div.sk-label-container {text-align: center;}#sk-container-id-1 div.sk-container {/* jupyter's `normalize.less` sets `[hidden] { display: none; }` but bootstrap.min.css set `[hidden] { display: none !important; }` so we also need the `!important` here to be able to override the default hidden behavior on the sphinx rendered scikit-learn.org. See: https://github.com/scikit-learn/scikit-learn/issues/21755 */display: inline-block !important;position: relative;}#sk-container-id-1 div.sk-text-repr-fallback {display: none;}</style><div id=\"sk-container-id-1\" class=\"sk-top-container\"><div class=\"sk-text-repr-fallback\"><pre>LogisticRegression(max_iter=1000)</pre><b>In a Jupyter environment, please rerun this cell to show the HTML representation or trust the notebook. <br />On GitHub, the HTML representation is unable to render, please try loading this page with nbviewer.org.</b></div><div class=\"sk-container\" hidden><div class=\"sk-item\"><div class=\"sk-estimator sk-toggleable\"><input class=\"sk-toggleable__control sk-hidden--visually\" id=\"sk-estimator-id-1\" type=\"checkbox\" checked><label for=\"sk-estimator-id-1\" class=\"sk-toggleable__label sk-toggleable__label-arrow\">LogisticRegression</label><div class=\"sk-toggleable__content\"><pre>LogisticRegression(max_iter=1000)</pre></div></div></div></div></div>"
      ],
      "text/plain": [
       "LogisticRegression(max_iter=1000)"
      ]
     },
     "execution_count": 13,
     "metadata": {},
     "output_type": "execute_result"
    }
   ],
   "source": [
    "model = LogisticRegression(max_iter=1000)\n",
    "model.fit(X_train_vectorized, y_train)"
   ]
  },
  {
   "cell_type": "code",
   "execution_count": 14,
   "metadata": {
    "id": "xnMzWXFqOZKs"
   },
   "outputs": [],
   "source": [
    "# Predict on the evaluation set\n",
    "y_pred = model.predict(X_eval_vectorized)"
   ]
  },
  {
   "cell_type": "code",
   "execution_count": 15,
   "metadata": {},
   "outputs": [
    {
     "data": {
      "text/plain": [
       "array([ 1,  3,  1, ..., 10,  0,  1], dtype=int64)"
      ]
     },
     "execution_count": 15,
     "metadata": {},
     "output_type": "execute_result"
    }
   ],
   "source": [
    "y_pred"
   ]
  },
  {
   "cell_type": "code",
   "execution_count": null,
   "metadata": {
    "colab": {
     "base_uri": "https://localhost:8080/"
    },
    "id": "bMMPZXV2OcPS",
    "outputId": "d4d27421-2125-48e9-ad0e-6e572731c89f"
   },
   "outputs": [],
   "source": [
    "# Evaluate the model\n",
    "accuracy = accuracy_score(y_eval, y_pred)\n",
    "print(f\"Accuracy: {accuracy}\")"
   ]
  },
  {
   "cell_type": "code",
   "execution_count": 5,
   "metadata": {
    "id": "OG0fVcfgOq4y"
   },
   "outputs": [],
   "source": [
    "def predict_category(Issue, Subissue):\n",
    "  example_text = Issue + \" \" + Subissue\n",
    "\n",
    "  example_text_vectorized = vectorizer.transform([example_text])\n",
    "\n",
    "  predicted_category = model.predict(example_text_vectorized)\n",
    "  predicted_category_name = [category for category, index in category_mapping.items() if index == predicted_category[0]][0]\n",
    "  return predicted_category_name"
   ]
  },
  {
   "cell_type": "code",
   "execution_count": null,
   "metadata": {
    "id": "Z3jnSffaPU-i"
   },
   "outputs": [],
   "source": [
    "Issue = \"disclosure verification of debt\"\n",
    "Subissue = \"not given enough info to verify debt\""
   ]
  },
  {
   "cell_type": "code",
   "execution_count": 1,
   "metadata": {},
   "outputs": [],
   "source": [
    "import pickle"
   ]
  },
  {
   "cell_type": "code",
   "execution_count": 2,
   "metadata": {},
   "outputs": [
    {
     "ename": "NameError",
     "evalue": "name 'model' is not defined",
     "output_type": "error",
     "traceback": [
      "\u001b[1;31m---------------------------------------------------------------------------\u001b[0m",
      "\u001b[1;31mNameError\u001b[0m                                 Traceback (most recent call last)",
      "Cell \u001b[1;32mIn[2], line 1\u001b[0m\n\u001b[1;32m----> 1\u001b[0m pickle\u001b[39m.\u001b[39mdump(model,\u001b[39mopen\u001b[39m(\u001b[39m'\u001b[39m\u001b[39mmodel.pkl\u001b[39m\u001b[39m'\u001b[39m,\u001b[39m'\u001b[39m\u001b[39mwb\u001b[39m\u001b[39m'\u001b[39m))\n",
      "\u001b[1;31mNameError\u001b[0m: name 'model' is not defined"
     ]
    }
   ],
   "source": [
    "pickle.dump(model,open('model.pkl','wb'))"
   ]
  },
  {
   "cell_type": "code",
   "execution_count": 3,
   "metadata": {},
   "outputs": [
    {
     "name": "stderr",
     "output_type": "stream",
     "text": [
      "c:\\Users\\Chandrashekhar\\.conda\\envs\\tf-gpu\\lib\\site-packages\\scipy\\__init__.py:146: UserWarning: A NumPy version >=1.17.3 and <1.25.0 is required for this version of SciPy (detected version 1.25.2\n",
      "  warnings.warn(f\"A NumPy version >={np_minversion} and <{np_maxversion}\"\n"
     ]
    }
   ],
   "source": [
    "model = pickle.load(open('model.pkl','rb'))"
   ]
  },
  {
   "cell_type": "code",
   "execution_count": 4,
   "metadata": {
    "id": "hv4br6aFPbCJ"
   },
   "outputs": [],
   "source": [
    "import gradio as gr"
   ]
  },
  {
   "cell_type": "code",
   "execution_count": 10,
   "metadata": {
    "colab": {
     "base_uri": "https://localhost:8080/",
     "height": 616
    },
    "id": "nqASdOE1PjqK",
    "outputId": "6da9405a-8033-4c05-d3f4-df27ca1f4f6f"
   },
   "outputs": [
    {
     "name": "stdout",
     "output_type": "stream",
     "text": [
      "Running on local URL:  http://127.0.0.1:7861\n",
      "\n",
      "To create a public link, set `share=True` in `launch()`.\n"
     ]
    },
    {
     "data": {
      "text/html": [
       "<div><iframe src=\"http://127.0.0.1:7861/\" width=\"100%\" height=\"500\" allow=\"autoplay; camera; microphone; clipboard-read; clipboard-write;\" frameborder=\"0\" allowfullscreen></iframe></div>"
      ],
      "text/plain": [
       "<IPython.core.display.HTML object>"
      ]
     },
     "metadata": {},
     "output_type": "display_data"
    },
    {
     "data": {
      "text/plain": []
     },
     "execution_count": 10,
     "metadata": {},
     "output_type": "execute_result"
    },
    {
     "name": "stderr",
     "output_type": "stream",
     "text": [
      "Traceback (most recent call last):\n",
      "  File \"c:\\Users\\Chandrashekhar\\.conda\\envs\\tf-gpu\\lib\\site-packages\\gradio\\routes.py\", line 394, in run_predict\n",
      "    output = await app.get_blocks().process_api(\n",
      "  File \"c:\\Users\\Chandrashekhar\\.conda\\envs\\tf-gpu\\lib\\site-packages\\gradio\\blocks.py\", line 1075, in process_api\n",
      "    result = await self.call_function(\n",
      "  File \"c:\\Users\\Chandrashekhar\\.conda\\envs\\tf-gpu\\lib\\site-packages\\gradio\\blocks.py\", line 884, in call_function\n",
      "    prediction = await anyio.to_thread.run_sync(\n",
      "  File \"c:\\Users\\Chandrashekhar\\.conda\\envs\\tf-gpu\\lib\\site-packages\\anyio\\to_thread.py\", line 33, in run_sync\n",
      "    return await get_asynclib().run_sync_in_worker_thread(\n",
      "  File \"c:\\Users\\Chandrashekhar\\.conda\\envs\\tf-gpu\\lib\\site-packages\\anyio\\_backends\\_asyncio.py\", line 877, in run_sync_in_worker_thread\n",
      "    return await future\n",
      "  File \"c:\\Users\\Chandrashekhar\\.conda\\envs\\tf-gpu\\lib\\site-packages\\anyio\\_backends\\_asyncio.py\", line 807, in run\n",
      "    result = context.run(func, *args)\n",
      "  File \"C:\\Users\\Chandrashekhar\\AppData\\Local\\Temp\\ipykernel_21480\\557855999.py\", line 4, in predict_category\n",
      "    example_text_vectorized = vectorizer.transform([example_text])\n",
      "  File \"c:\\Users\\Chandrashekhar\\.conda\\envs\\tf-gpu\\lib\\site-packages\\sklearn\\feature_extraction\\text.py\", line 2143, in transform\n",
      "    check_is_fitted(self, msg=\"The TF-IDF vectorizer is not fitted\")\n",
      "  File \"c:\\Users\\Chandrashekhar\\.conda\\envs\\tf-gpu\\lib\\site-packages\\sklearn\\utils\\validation.py\", line 1380, in check_is_fitted\n",
      "    raise NotFittedError(msg % {\"name\": type(estimator).__name__})\n",
      "sklearn.exceptions.NotFittedError: The TF-IDF vectorizer is not fitted\n"
     ]
    }
   ],
   "source": [
    "\n",
    "\n",
    "demo = gr.Interface(title=\"Predict Category Using Issue and Subissue\",fn=predict_category, \n",
    "                    inputs=[gr.Textbox(lines=2,placeholder=\"Please Enter Your Issue\"),\n",
    "                            gr.Textbox(lines=2,placeholder=\"Please Enter Your SubIssue\")], \n",
    "                    outputs=\"text\",\n",
    "                   examples=[[\"My money is debited but not received\", \"it happened 2 hours ago\"],\n",
    "                            [\"I want to go USA and I need money\",\"\"]],\n",
    "                   allow_flagging=\"never\")\n",
    "\n",
    "demo.launch()"
   ]
  },
  {
   "cell_type": "code",
   "execution_count": null,
   "metadata": {
    "id": "MaEZx0kBP3L9"
   },
   "outputs": [],
   "source": [
    "model2 = RandomForestClassifier()\n",
    "model2.fit(X_train_vectorized, y_train)"
   ]
  },
  {
   "cell_type": "code",
   "execution_count": null,
   "metadata": {},
   "outputs": [],
   "source": [
    "y_pred = model2.predict(X_eval_vectorized)"
   ]
  },
  {
   "cell_type": "code",
   "execution_count": null,
   "metadata": {},
   "outputs": [],
   "source": [
    "accuracy_score(y_eval, y_pred)"
   ]
  },
  {
   "cell_type": "code",
   "execution_count": null,
   "metadata": {},
   "outputs": [],
   "source": [
    "def predict_category_using_RFC(Issue, Subissue):\n",
    "  example_text = Issue + \" \" + Subissue\n",
    "\n",
    "  example_text_vectorized = vectorizer.transform([example_text])\n",
    "\n",
    "  predicted_category = model2.predict(example_text_vectorized)\n",
    "  predicted_category_name = [category for category, index in category_mapping.items() if index == predicted_category[0]][0]\n",
    "  return predicted_category_name"
   ]
  },
  {
   "cell_type": "markdown",
   "metadata": {},
   "source": [
    "# use new model and then predict"
   ]
  },
  {
   "cell_type": "code",
   "execution_count": 16,
   "metadata": {},
   "outputs": [
    {
     "ename": "NameError",
     "evalue": "name 'LAYERS' is not defined",
     "output_type": "error",
     "traceback": [
      "\u001b[1;31m---------------------------------------------------------------------------\u001b[0m",
      "\u001b[1;31mNameError\u001b[0m                                 Traceback (most recent call last)",
      "Cell \u001b[1;32mIn[16], line 1\u001b[0m\n\u001b[1;32m----> 1\u001b[0m LAYERS\n",
      "\u001b[1;31mNameError\u001b[0m: name 'LAYERS' is not defined"
     ]
    }
   ],
   "source": [
    "LAYERS"
   ]
  },
  {
   "cell_type": "code",
   "execution_count": null,
   "metadata": {},
   "outputs": [],
   "source": []
  }
 ],
 "metadata": {
  "colab": {
   "provenance": []
  },
  "kernelspec": {
   "display_name": "Python 3.9 (tf_gpu)",
   "language": "python",
   "name": "tf_gpu"
  },
  "language_info": {
   "codemirror_mode": {
    "name": "ipython",
    "version": 3
   },
   "file_extension": ".py",
   "mimetype": "text/x-python",
   "name": "python",
   "nbconvert_exporter": "python",
   "pygments_lexer": "ipython3",
   "version": "3.9.16"
  }
 },
 "nbformat": 4,
 "nbformat_minor": 4
}
